{
 "cells": [
  {
   "cell_type": "code",
   "execution_count": 1,
   "id": "b51d044e",
   "metadata": {},
   "outputs": [],
   "source": [
    "import pandas as pd\n",
    "import numpy as np"
   ]
  },
  {
   "cell_type": "code",
   "execution_count": 2,
   "id": "a4653bad",
   "metadata": {},
   "outputs": [],
   "source": [
    "df_new = pd.read_csv('spam_clean_csv')"
   ]
  },
  {
   "cell_type": "code",
   "execution_count": 3,
   "id": "64587947",
   "metadata": {},
   "outputs": [
    {
     "data": {
      "text/plain": [
       "(5169, 6)"
      ]
     },
     "execution_count": 3,
     "metadata": {},
     "output_type": "execute_result"
    }
   ],
   "source": [
    "df_new.shape"
   ]
  },
  {
   "cell_type": "code",
   "execution_count": 4,
   "id": "67b01ba1",
   "metadata": {},
   "outputs": [],
   "source": [
    "df_new.drop(columns='Unnamed: 0', inplace=True)"
   ]
  },
  {
   "cell_type": "code",
   "execution_count": 5,
   "id": "1f2ccf20",
   "metadata": {},
   "outputs": [
    {
     "data": {
      "text/html": [
       "<div>\n",
       "<style scoped>\n",
       "    .dataframe tbody tr th:only-of-type {\n",
       "        vertical-align: middle;\n",
       "    }\n",
       "\n",
       "    .dataframe tbody tr th {\n",
       "        vertical-align: top;\n",
       "    }\n",
       "\n",
       "    .dataframe thead th {\n",
       "        text-align: right;\n",
       "    }\n",
       "</style>\n",
       "<table border=\"1\" class=\"dataframe\">\n",
       "  <thead>\n",
       "    <tr style=\"text-align: right;\">\n",
       "      <th></th>\n",
       "      <th>target</th>\n",
       "      <th>num_characters</th>\n",
       "      <th>num_words</th>\n",
       "      <th>num_sentences</th>\n",
       "      <th>transformed_text</th>\n",
       "    </tr>\n",
       "  </thead>\n",
       "  <tbody>\n",
       "    <tr>\n",
       "      <th>0</th>\n",
       "      <td>0</td>\n",
       "      <td>111</td>\n",
       "      <td>24</td>\n",
       "      <td>2</td>\n",
       "      <td>go jurong point crazy available bugis n great ...</td>\n",
       "    </tr>\n",
       "    <tr>\n",
       "      <th>1</th>\n",
       "      <td>0</td>\n",
       "      <td>29</td>\n",
       "      <td>8</td>\n",
       "      <td>2</td>\n",
       "      <td>ok lar joking wif u oni</td>\n",
       "    </tr>\n",
       "    <tr>\n",
       "      <th>2</th>\n",
       "      <td>1</td>\n",
       "      <td>155</td>\n",
       "      <td>37</td>\n",
       "      <td>2</td>\n",
       "      <td>free entry 2 wkly comp win fa cup final tkts 2...</td>\n",
       "    </tr>\n",
       "    <tr>\n",
       "      <th>3</th>\n",
       "      <td>0</td>\n",
       "      <td>49</td>\n",
       "      <td>13</td>\n",
       "      <td>1</td>\n",
       "      <td>u dun say early hor u c already say</td>\n",
       "    </tr>\n",
       "    <tr>\n",
       "      <th>4</th>\n",
       "      <td>0</td>\n",
       "      <td>61</td>\n",
       "      <td>15</td>\n",
       "      <td>1</td>\n",
       "      <td>nah think go usf life around though</td>\n",
       "    </tr>\n",
       "  </tbody>\n",
       "</table>\n",
       "</div>"
      ],
      "text/plain": [
       "   target  num_characters  num_words  num_sentences  \\\n",
       "0       0             111         24              2   \n",
       "1       0              29          8              2   \n",
       "2       1             155         37              2   \n",
       "3       0              49         13              1   \n",
       "4       0              61         15              1   \n",
       "\n",
       "                                    transformed_text  \n",
       "0  go jurong point crazy available bugis n great ...  \n",
       "1                            ok lar joking wif u oni  \n",
       "2  free entry 2 wkly comp win fa cup final tkts 2...  \n",
       "3                u dun say early hor u c already say  \n",
       "4                nah think go usf life around though  "
      ]
     },
     "execution_count": 5,
     "metadata": {},
     "output_type": "execute_result"
    }
   ],
   "source": [
    "df_new.head()"
   ]
  },
  {
   "cell_type": "markdown",
   "id": "266fb05d",
   "metadata": {},
   "source": [
    "### Implementing Naive Bayes, Multinomial NB and Bernoulli NB"
   ]
  },
  {
   "cell_type": "code",
   "execution_count": 6,
   "id": "53861aae",
   "metadata": {},
   "outputs": [],
   "source": [
    "# using BOW, Tfidf\n",
    "\n",
    "from sklearn.feature_extraction.text import CountVectorizer, TfidfVectorizer\n",
    "\n",
    "cv = CountVectorizer()\n",
    "tfidf = TfidfVectorizer(max_features=3000)"
   ]
  },
  {
   "cell_type": "code",
   "execution_count": 7,
   "id": "b5b1791c",
   "metadata": {},
   "outputs": [
    {
     "data": {
      "text/plain": [
       "target              0\n",
       "num_characters      0\n",
       "num_words           0\n",
       "num_sentences       0\n",
       "transformed_text    9\n",
       "dtype: int64"
      ]
     },
     "execution_count": 7,
     "metadata": {},
     "output_type": "execute_result"
    }
   ],
   "source": [
    "df_new.isna().sum()"
   ]
  },
  {
   "cell_type": "code",
   "execution_count": 8,
   "id": "e943a25a",
   "metadata": {},
   "outputs": [],
   "source": [
    "df_new['transformed_text'] = df_new['transformed_text'].fillna(' ')"
   ]
  },
  {
   "cell_type": "code",
   "execution_count": 9,
   "id": "1d87032e",
   "metadata": {},
   "outputs": [],
   "source": [
    "#X = cv.fit_transform(df_new['transformed_text']).toarray()"
   ]
  },
  {
   "cell_type": "code",
   "execution_count": 10,
   "id": "1c34b878",
   "metadata": {},
   "outputs": [],
   "source": [
    "X = tfidf.fit_transform(df_new['transformed_text']).toarray()"
   ]
  },
  {
   "cell_type": "code",
   "execution_count": 11,
   "id": "1877eee5",
   "metadata": {},
   "outputs": [
    {
     "data": {
      "text/plain": [
       "(5169, 3000)"
      ]
     },
     "execution_count": 11,
     "metadata": {},
     "output_type": "execute_result"
    }
   ],
   "source": [
    "X.shape"
   ]
  },
  {
   "cell_type": "code",
   "execution_count": 12,
   "id": "097c850f",
   "metadata": {},
   "outputs": [],
   "source": [
    "y = df_new['target'].values"
   ]
  },
  {
   "cell_type": "code",
   "execution_count": 13,
   "id": "fb7a940c",
   "metadata": {},
   "outputs": [
    {
     "data": {
      "text/plain": [
       "array([0, 0, 1, ..., 0, 0, 0], dtype=int64)"
      ]
     },
     "execution_count": 13,
     "metadata": {},
     "output_type": "execute_result"
    }
   ],
   "source": [
    "y"
   ]
  },
  {
   "cell_type": "code",
   "execution_count": 14,
   "id": "64230827",
   "metadata": {},
   "outputs": [],
   "source": [
    "from sklearn.model_selection import train_test_split"
   ]
  },
  {
   "cell_type": "code",
   "execution_count": 15,
   "id": "cae847ce",
   "metadata": {},
   "outputs": [],
   "source": [
    "X_train, X_test, y_train, y_test = train_test_split(X, y , test_size=0.2, random_state=2)"
   ]
  },
  {
   "cell_type": "code",
   "execution_count": 16,
   "id": "650297a7",
   "metadata": {},
   "outputs": [],
   "source": [
    "from sklearn.naive_bayes import GaussianNB, MultinomialNB, BernoulliNB\n",
    "from sklearn.metrics import accuracy_score, confusion_matrix, precision_score"
   ]
  },
  {
   "cell_type": "code",
   "execution_count": 17,
   "id": "824c5e82",
   "metadata": {},
   "outputs": [],
   "source": [
    "gnb = GaussianNB()\n",
    "mnb = MultinomialNB()\n",
    "bnb = BernoulliNB()"
   ]
  },
  {
   "cell_type": "code",
   "execution_count": 18,
   "id": "27fe17ef",
   "metadata": {},
   "outputs": [
    {
     "name": "stdout",
     "output_type": "stream",
     "text": [
      "0.8829787234042553\n",
      "[[800  96]\n",
      " [ 25 113]]\n",
      "0.5406698564593302\n"
     ]
    }
   ],
   "source": [
    "gnb.fit(X_train, y_train)\n",
    "y_pred1 = gnb.predict(X_test) \n",
    "print(accuracy_score(y_test, y_pred1))\n",
    "print(confusion_matrix(y_test, y_pred1))\n",
    "print(precision_score(y_test, y_pred1))"
   ]
  },
  {
   "cell_type": "code",
   "execution_count": 19,
   "id": "4c81884a",
   "metadata": {},
   "outputs": [
    {
     "name": "stdout",
     "output_type": "stream",
     "text": [
      "0.9738878143133463\n",
      "[[896   0]\n",
      " [ 27 111]]\n",
      "1.0\n"
     ]
    }
   ],
   "source": [
    "mnb.fit(X_train, y_train)\n",
    "y_pred2 = mnb.predict(X_test) \n",
    "print(accuracy_score(y_test, y_pred2))\n",
    "print(confusion_matrix(y_test, y_pred2))\n",
    "print(precision_score(y_test, y_pred2))"
   ]
  },
  {
   "cell_type": "code",
   "execution_count": 20,
   "id": "689ad4f8",
   "metadata": {},
   "outputs": [
    {
     "name": "stdout",
     "output_type": "stream",
     "text": [
      "0.9845261121856866\n",
      "[[896   0]\n",
      " [ 16 122]]\n",
      "1.0\n"
     ]
    }
   ],
   "source": [
    "bnb.fit(X_train, y_train)\n",
    "y_pred3 = bnb.predict(X_test) \n",
    "print(accuracy_score(y_test, y_pred3))\n",
    "print(confusion_matrix(y_test, y_pred3))\n",
    "print(precision_score(y_test, y_pred3))"
   ]
  },
  {
   "cell_type": "code",
   "execution_count": 21,
   "id": "af9b0e25",
   "metadata": {},
   "outputs": [],
   "source": [
    "# Using Tfidf with Multinomial NB gives us better precision"
   ]
  },
  {
   "cell_type": "code",
   "execution_count": 22,
   "id": "dc4d7414",
   "metadata": {},
   "outputs": [],
   "source": [
    "# optimizing model-hyperparamter tuning when using tfidf and setting max_features=3000"
   ]
  },
  {
   "cell_type": "code",
   "execution_count": 23,
   "id": "6e1142b6",
   "metadata": {},
   "outputs": [],
   "source": [
    "import pickle"
   ]
  },
  {
   "cell_type": "code",
   "execution_count": 24,
   "id": "10ec2e10",
   "metadata": {},
   "outputs": [],
   "source": [
    "pickle.dump(tfidf, open('vectorizer.pkl', 'wb'))"
   ]
  },
  {
   "cell_type": "code",
   "execution_count": 25,
   "id": "81854a8b",
   "metadata": {},
   "outputs": [],
   "source": [
    "pickle.dump(mnb, open('model.pkl', 'wb'))"
   ]
  },
  {
   "cell_type": "markdown",
   "id": "fa316aa7",
   "metadata": {},
   "source": [
    "# Handling Imbalanced Dataset"
   ]
  },
  {
   "cell_type": "code",
   "execution_count": 26,
   "id": "8104d207",
   "metadata": {},
   "outputs": [],
   "source": [
    "from imblearn.combine import SMOTEENN"
   ]
  },
  {
   "cell_type": "code",
   "execution_count": 27,
   "id": "53ec0b37",
   "metadata": {},
   "outputs": [],
   "source": [
    "sm = SMOTEENN()\n",
    "X_resampled, y_resampled = sm.fit_resample(X, y)"
   ]
  },
  {
   "cell_type": "code",
   "execution_count": 28,
   "id": "980ea2ee",
   "metadata": {},
   "outputs": [],
   "source": [
    "X_trainb, X_testb, y_trainb, y_testb = train_test_split(X_resampled, y_resampled , test_size=0.2, random_state=2)"
   ]
  },
  {
   "cell_type": "code",
   "execution_count": 29,
   "id": "cf78c3a3",
   "metadata": {},
   "outputs": [
    {
     "name": "stdout",
     "output_type": "stream",
     "text": [
      "0.9468186134852802\n",
      "[[114  56]\n",
      " [  0 883]]\n",
      "0.9403620873269436\n"
     ]
    }
   ],
   "source": [
    "mnb.fit(X_trainb, y_trainb)\n",
    "y_pred2b = mnb.predict(X_testb) \n",
    "print(accuracy_score(y_testb, y_pred2b))\n",
    "print(confusion_matrix(y_testb, y_pred2b))\n",
    "print(precision_score(y_testb, y_pred2b))"
   ]
  },
  {
   "cell_type": "code",
   "execution_count": 30,
   "id": "fea2402c",
   "metadata": {},
   "outputs": [
    {
     "name": "stdout",
     "output_type": "stream",
     "text": [
      "0.9895536562203229\n",
      "[[164   6]\n",
      " [  5 878]]\n",
      "0.9932126696832579\n"
     ]
    }
   ],
   "source": [
    "gnb.fit(X_trainb, y_trainb)\n",
    "y_pred1b = gnb.predict(X_testb) \n",
    "print(accuracy_score(y_testb, y_pred1b))\n",
    "print(confusion_matrix(y_testb, y_pred1b))\n",
    "print(precision_score(y_testb, y_pred1b))"
   ]
  },
  {
   "cell_type": "code",
   "execution_count": 31,
   "id": "f7dd02d3",
   "metadata": {},
   "outputs": [
    {
     "name": "stdout",
     "output_type": "stream",
     "text": [
      "0.9876543209876543\n",
      "[[170   0]\n",
      " [ 13 870]]\n",
      "1.0\n"
     ]
    }
   ],
   "source": [
    "bnb.fit(X_trainb, y_trainb)\n",
    "y_pred3b = bnb.predict(X_testb) \n",
    "print(accuracy_score(y_testb, y_pred3b))\n",
    "print(confusion_matrix(y_testb, y_pred3b))\n",
    "print(precision_score(y_testb, y_pred3b))"
   ]
  },
  {
   "cell_type": "code",
   "execution_count": 32,
   "id": "01807fa4",
   "metadata": {},
   "outputs": [],
   "source": [
    "pickle.dump(bnb, open('vectorizer.pkl', 'wb'))"
   ]
  }
 ],
 "metadata": {
  "kernelspec": {
   "display_name": "Python 3",
   "language": "python",
   "name": "python3"
  },
  "language_info": {
   "codemirror_mode": {
    "name": "ipython",
    "version": 3
   },
   "file_extension": ".py",
   "mimetype": "text/x-python",
   "name": "python",
   "nbconvert_exporter": "python",
   "pygments_lexer": "ipython3",
   "version": "3.8.8"
  }
 },
 "nbformat": 4,
 "nbformat_minor": 5
}
